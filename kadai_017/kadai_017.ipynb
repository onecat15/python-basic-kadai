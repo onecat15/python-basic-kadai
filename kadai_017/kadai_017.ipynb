{
 "cells": [
  {
   "cell_type": "code",
   "execution_count": 3,
   "metadata": {},
   "outputs": [
    {
     "name": "stdout",
     "output_type": "stream",
     "text": [
      "いちろうは大人です。\n",
      "じろうは大人です。\n",
      "さぶろうは大人です。\n",
      "しろうは大人ではありません。\n",
      "ごろうは大人ではありません。\n"
     ]
    }
   ],
   "source": [
    "class Human:\n",
    "    def __init__(self, name, age):\n",
    "        self.name = name\n",
    "        self.age = age\n",
    "\n",
    "    def check_adult(self):\n",
    "        if self.age >= 20:\n",
    "            print(f\"{self.name}は大人です。\")\n",
    "        else:\n",
    "            print(f\"{self.name}は大人ではありません。\")\n",
    "\n",
    "user1 = Human(\"いちろう\", 25)\n",
    "user2 = Human(\"じろう\", 23)\n",
    "user3 = Human(\"さぶろう\", 20)\n",
    "user4 = Human(\"しろう\", 18)\n",
    "user5 = Human(\"ごろう\", 10)\n",
    "\n",
    "user1.check_adult()\n",
    "user2.check_adult()\n",
    "user3.check_adult()\n",
    "user4.check_adult()\n",
    "user5.check_adult()"
   ]
  }
 ],
 "metadata": {
  "kernelspec": {
   "display_name": "Python 3",
   "language": "python",
   "name": "python3"
  },
  "language_info": {
   "codemirror_mode": {
    "name": "ipython",
    "version": 3
   },
   "file_extension": ".py",
   "mimetype": "text/x-python",
   "name": "python",
   "nbconvert_exporter": "python",
   "pygments_lexer": "ipython3",
   "version": "3.12.4"
  }
 },
 "nbformat": 4,
 "nbformat_minor": 2
}
